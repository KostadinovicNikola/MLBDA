{
 "cells": [
  {
   "cell_type": "markdown",
   "metadata": {},
   "source": [
    "# Installation SPARQL Kernel"
   ]
  },
  {
   "cell_type": "markdown",
   "metadata": {},
   "source": [
    "https://github.com/paulovn/sparql-kernel"
   ]
  },
  {
   "cell_type": "code",
   "execution_count": 24,
   "metadata": {},
   "outputs": [
    {
     "name": "stdout",
     "output_type": "stream",
     "text": [
      "Requirement already satisfied: sparqlkernel in /Library/Frameworks/Python.framework/Versions/3.9/lib/python3.9/site-packages (1.3.0)\n",
      "Requirement already satisfied: pygments in /Library/Frameworks/Python.framework/Versions/3.9/lib/python3.9/site-packages (from sparqlkernel) (2.7.4)\n",
      "Requirement already satisfied: SPARQLWrapper in /Library/Frameworks/Python.framework/Versions/3.9/lib/python3.9/site-packages (from sparqlkernel) (1.8.5)\n",
      "Requirement already satisfied: setuptools in /Library/Frameworks/Python.framework/Versions/3.9/lib/python3.9/site-packages (from sparqlkernel) (49.2.1)\n",
      "Requirement already satisfied: ipykernel>=4.0 in /Library/Frameworks/Python.framework/Versions/3.9/lib/python3.9/site-packages (from sparqlkernel) (5.4.3)\n",
      "Requirement already satisfied: traitlets in /Library/Frameworks/Python.framework/Versions/3.9/lib/python3.9/site-packages (from sparqlkernel) (5.0.5)\n",
      "Requirement already satisfied: rdflib in /Library/Frameworks/Python.framework/Versions/3.9/lib/python3.9/site-packages (from sparqlkernel) (6.1.1)\n",
      "Requirement already satisfied: notebook in /Library/Frameworks/Python.framework/Versions/3.9/lib/python3.9/site-packages (from sparqlkernel) (6.2.0)\n",
      "Requirement already satisfied: appnope in /Library/Frameworks/Python.framework/Versions/3.9/lib/python3.9/site-packages (from ipykernel>=4.0->sparqlkernel) (0.1.2)\n",
      "Requirement already satisfied: ipython>=5.0.0 in /Library/Frameworks/Python.framework/Versions/3.9/lib/python3.9/site-packages (from ipykernel>=4.0->sparqlkernel) (7.20.0)\n",
      "Requirement already satisfied: jupyter-client in /Library/Frameworks/Python.framework/Versions/3.9/lib/python3.9/site-packages (from ipykernel>=4.0->sparqlkernel) (6.1.11)\n",
      "Requirement already satisfied: tornado>=4.2 in /Library/Frameworks/Python.framework/Versions/3.9/lib/python3.9/site-packages (from ipykernel>=4.0->sparqlkernel) (6.1)\n",
      "Requirement already satisfied: ipython-genutils in /Library/Frameworks/Python.framework/Versions/3.9/lib/python3.9/site-packages (from traitlets->sparqlkernel) (0.2.0)\n",
      "Requirement already satisfied: prometheus-client in /Library/Frameworks/Python.framework/Versions/3.9/lib/python3.9/site-packages (from notebook->sparqlkernel) (0.9.0)\n",
      "Requirement already satisfied: Send2Trash>=1.5.0 in /Library/Frameworks/Python.framework/Versions/3.9/lib/python3.9/site-packages (from notebook->sparqlkernel) (1.5.0)\n",
      "Requirement already satisfied: pyzmq>=17 in /Library/Frameworks/Python.framework/Versions/3.9/lib/python3.9/site-packages (from notebook->sparqlkernel) (22.0.2)\n",
      "Requirement already satisfied: argon2-cffi in /Library/Frameworks/Python.framework/Versions/3.9/lib/python3.9/site-packages (from notebook->sparqlkernel) (20.1.0)\n",
      "Requirement already satisfied: jupyter-core>=4.6.1 in /Library/Frameworks/Python.framework/Versions/3.9/lib/python3.9/site-packages (from notebook->sparqlkernel) (4.7.1)\n",
      "Requirement already satisfied: nbformat in /Library/Frameworks/Python.framework/Versions/3.9/lib/python3.9/site-packages (from notebook->sparqlkernel) (5.1.2)\n",
      "Requirement already satisfied: terminado>=0.8.3 in /Library/Frameworks/Python.framework/Versions/3.9/lib/python3.9/site-packages (from notebook->sparqlkernel) (0.9.2)\n",
      "Requirement already satisfied: nbconvert in /Library/Frameworks/Python.framework/Versions/3.9/lib/python3.9/site-packages (from notebook->sparqlkernel) (6.0.7)\n",
      "Requirement already satisfied: jinja2 in /Library/Frameworks/Python.framework/Versions/3.9/lib/python3.9/site-packages (from notebook->sparqlkernel) (2.11.3)\n",
      "Requirement already satisfied: pyparsing in /Library/Frameworks/Python.framework/Versions/3.9/lib/python3.9/site-packages (from rdflib->sparqlkernel) (2.2.0)\n",
      "Requirement already satisfied: isodate in /Library/Frameworks/Python.framework/Versions/3.9/lib/python3.9/site-packages (from rdflib->sparqlkernel) (0.6.1)\n",
      "Requirement already satisfied: jedi>=0.16 in /Library/Frameworks/Python.framework/Versions/3.9/lib/python3.9/site-packages (from ipython>=5.0.0->ipykernel>=4.0->sparqlkernel) (0.18.0)\n",
      "Requirement already satisfied: decorator in /Library/Frameworks/Python.framework/Versions/3.9/lib/python3.9/site-packages (from ipython>=5.0.0->ipykernel>=4.0->sparqlkernel) (4.4.2)\n",
      "Requirement already satisfied: prompt-toolkit!=3.0.0,!=3.0.1,<3.1.0,>=2.0.0 in /Library/Frameworks/Python.framework/Versions/3.9/lib/python3.9/site-packages (from ipython>=5.0.0->ipykernel>=4.0->sparqlkernel) (3.0.14)\n",
      "Requirement already satisfied: backcall in /Library/Frameworks/Python.framework/Versions/3.9/lib/python3.9/site-packages (from ipython>=5.0.0->ipykernel>=4.0->sparqlkernel) (0.2.0)\n",
      "Requirement already satisfied: pickleshare in /Library/Frameworks/Python.framework/Versions/3.9/lib/python3.9/site-packages (from ipython>=5.0.0->ipykernel>=4.0->sparqlkernel) (0.7.5)\n",
      "Requirement already satisfied: pexpect>4.3 in /Library/Frameworks/Python.framework/Versions/3.9/lib/python3.9/site-packages (from ipython>=5.0.0->ipykernel>=4.0->sparqlkernel) (4.8.0)\n",
      "Requirement already satisfied: python-dateutil>=2.1 in /Library/Frameworks/Python.framework/Versions/3.9/lib/python3.9/site-packages (from jupyter-client->ipykernel>=4.0->sparqlkernel) (2.8.1)\n",
      "Requirement already satisfied: ptyprocess in /Library/Frameworks/Python.framework/Versions/3.9/lib/python3.9/site-packages (from terminado>=0.8.3->notebook->sparqlkernel) (0.7.0)\n",
      "Requirement already satisfied: cffi>=1.0.0 in /Library/Frameworks/Python.framework/Versions/3.9/lib/python3.9/site-packages (from argon2-cffi->notebook->sparqlkernel) (1.14.4)\n",
      "Requirement already satisfied: six in /Library/Frameworks/Python.framework/Versions/3.9/lib/python3.9/site-packages (from argon2-cffi->notebook->sparqlkernel) (1.16.0)\n",
      "Requirement already satisfied: MarkupSafe>=0.23 in /Library/Frameworks/Python.framework/Versions/3.9/lib/python3.9/site-packages (from jinja2->notebook->sparqlkernel) (1.1.1)\n",
      "Requirement already satisfied: nbclient<0.6.0,>=0.5.0 in /Library/Frameworks/Python.framework/Versions/3.9/lib/python3.9/site-packages (from nbconvert->notebook->sparqlkernel) (0.5.1)\n",
      "Requirement already satisfied: pandocfilters>=1.4.1 in /Library/Frameworks/Python.framework/Versions/3.9/lib/python3.9/site-packages (from nbconvert->notebook->sparqlkernel) (1.4.3)\n",
      "Requirement already satisfied: entrypoints>=0.2.2 in /Library/Frameworks/Python.framework/Versions/3.9/lib/python3.9/site-packages (from nbconvert->notebook->sparqlkernel) (0.3)\n",
      "Requirement already satisfied: mistune<2,>=0.8.1 in /Library/Frameworks/Python.framework/Versions/3.9/lib/python3.9/site-packages (from nbconvert->notebook->sparqlkernel) (0.8.4)\n",
      "Requirement already satisfied: defusedxml in /Library/Frameworks/Python.framework/Versions/3.9/lib/python3.9/site-packages (from nbconvert->notebook->sparqlkernel) (0.6.0)\n",
      "Requirement already satisfied: bleach in /Library/Frameworks/Python.framework/Versions/3.9/lib/python3.9/site-packages (from nbconvert->notebook->sparqlkernel) (3.3.0)\n",
      "Requirement already satisfied: jupyterlab-pygments in /Library/Frameworks/Python.framework/Versions/3.9/lib/python3.9/site-packages (from nbconvert->notebook->sparqlkernel) (0.1.2)\n",
      "Requirement already satisfied: testpath in /Library/Frameworks/Python.framework/Versions/3.9/lib/python3.9/site-packages (from nbconvert->notebook->sparqlkernel) (0.4.4)\n",
      "Requirement already satisfied: jsonschema!=2.5.0,>=2.4 in /Library/Frameworks/Python.framework/Versions/3.9/lib/python3.9/site-packages (from nbformat->notebook->sparqlkernel) (3.2.0)\n",
      "Requirement already satisfied: pycparser in /Library/Frameworks/Python.framework/Versions/3.9/lib/python3.9/site-packages (from cffi>=1.0.0->argon2-cffi->notebook->sparqlkernel) (2.20)\n",
      "Requirement already satisfied: parso<0.9.0,>=0.8.0 in /Library/Frameworks/Python.framework/Versions/3.9/lib/python3.9/site-packages (from jedi>=0.16->ipython>=5.0.0->ipykernel>=4.0->sparqlkernel) (0.8.1)\n",
      "Requirement already satisfied: attrs>=17.4.0 in /Library/Frameworks/Python.framework/Versions/3.9/lib/python3.9/site-packages (from jsonschema!=2.5.0,>=2.4->nbformat->notebook->sparqlkernel) (20.3.0)\n",
      "Requirement already satisfied: pyrsistent>=0.14.0 in /Library/Frameworks/Python.framework/Versions/3.9/lib/python3.9/site-packages (from jsonschema!=2.5.0,>=2.4->nbformat->notebook->sparqlkernel) (0.17.3)\n"
     ]
    },
    {
     "name": "stdout",
     "output_type": "stream",
     "text": [
      "Requirement already satisfied: nest-asyncio in /Library/Frameworks/Python.framework/Versions/3.9/lib/python3.9/site-packages (from nbclient<0.6.0,>=0.5.0->nbconvert->notebook->sparqlkernel) (1.5.1)\n",
      "Requirement already satisfied: async-generator in /Library/Frameworks/Python.framework/Versions/3.9/lib/python3.9/site-packages (from nbclient<0.6.0,>=0.5.0->nbconvert->notebook->sparqlkernel) (1.10)\n",
      "Requirement already satisfied: wcwidth in /Library/Frameworks/Python.framework/Versions/3.9/lib/python3.9/site-packages (from prompt-toolkit!=3.0.0,!=3.0.1,<3.1.0,>=2.0.0->ipython>=5.0.0->ipykernel>=4.0->sparqlkernel) (0.2.5)\n",
      "Requirement already satisfied: webencodings in /Library/Frameworks/Python.framework/Versions/3.9/lib/python3.9/site-packages (from bleach->nbconvert->notebook->sparqlkernel) (0.5.1)\n",
      "Requirement already satisfied: packaging in /Library/Frameworks/Python.framework/Versions/3.9/lib/python3.9/site-packages (from bleach->nbconvert->notebook->sparqlkernel) (16.8)\n",
      "Note: you may need to restart the kernel to use updated packages.\n"
     ]
    }
   ],
   "source": [
    "pip install sparqlkernel"
   ]
  },
  {
   "cell_type": "code",
   "execution_count": 25,
   "metadata": {},
   "outputs": [
    {
     "name": "stderr",
     "output_type": "stream",
     "text": [
      "UsageError: Line magic function `%lsmagics` not found.\n"
     ]
    }
   ],
   "source": [
    "%lsmagics"
   ]
  },
  {
   "cell_type": "markdown",
   "metadata": {},
   "source": [
    "# Requêtes MONDIAL"
   ]
  },
  {
   "cell_type": "code",
   "execution_count": 26,
   "metadata": {},
   "outputs": [
    {
     "name": "stderr",
     "output_type": "stream",
     "text": [
      "UsageError: Line magic function `%endpoint` not found.\n"
     ]
    }
   ],
   "source": [
    "#%endpoint http://localhost:3030/mondial/sparql\n",
    "%endpoint http://www.semwebtech.org/mondial/10/sparql\n",
    "%lang en\n",
    "%log debug"
   ]
  },
  {
   "cell_type": "markdown",
   "metadata": {},
   "source": [
    "## Exploration du graphe "
   ]
  },
  {
   "cell_type": "markdown",
   "metadata": {},
   "source": [
    "### URI avec leur types"
   ]
  },
  {
   "cell_type": "code",
   "execution_count": 16,
   "metadata": {},
   "outputs": [
    {
     "ename": "SyntaxError",
     "evalue": "invalid syntax (<ipython-input-16-000cde4c4a92>, line 5)",
     "output_type": "error",
     "traceback": [
      "\u001b[0;36m  File \u001b[0;32m\"<ipython-input-16-000cde4c4a92>\"\u001b[0;36m, line \u001b[0;32m5\u001b[0m\n\u001b[0;31m    PREFIX prefix: <http://prefix.cc/>\u001b[0m\n\u001b[0m           ^\u001b[0m\n\u001b[0;31mSyntaxError\u001b[0m\u001b[0;31m:\u001b[0m invalid syntax\n"
     ]
    }
   ],
   "source": [
    "%format any\n",
    "%display table withtypes\n",
    "%show 100\n",
    "\n",
    "PREFIX prefix: <http://prefix.cc/>\n",
    "PREFIX co: <http://purl.org/ontology/co/core#>\n",
    "PREFIX coun: <http://www.daml.org/2001/09/countries/iso-3166-ont#>\n",
    "prefix rdfs: <http://www.w3.org/2000/01/rdf-schema#>\n",
    "prefix owl: <http://www.w3.org/2002/07/owl#>\n",
    "prefix mon: <http://www.semwebtech.org/mondial/10/meta#>\n",
    "prefix mondial: <http://www.semwebtech.org/mondial/10/>\n",
    "SELECT DISTINCT ?t\n",
    "WHERE {\n",
    "    ?a a ?t\n",
    "} ORDER BY ?t"
   ]
  },
  {
   "cell_type": "markdown",
   "metadata": {},
   "source": [
    "### Les propriétes liées à des sujets de type Country"
   ]
  },
  {
   "cell_type": "code",
   "execution_count": null,
   "metadata": {},
   "outputs": [],
   "source": [
    "%format any\n",
    "%display table \n",
    "%show 100\n",
    "\n",
    "\n",
    "PREFIX prefix: <http://prefix.cc/>\n",
    "PREFIX co: <http://purl.org/ontology/co/core#>\n",
    "PREFIX coun: <http://www.daml.org/2001/09/countries/iso-3166-ont#>\n",
    "prefix rdfs: <http://www.w3.org/2000/01/rdf-schema#>\n",
    "prefix owl: <http://www.w3.org/2002/07/owl#>\n",
    "prefix : <http://www.semwebtech.org/mondial/10/meta#>\n",
    "prefix mondial: <http://www.semwebtech.org/mondial/10/>\n",
    "SELECT DISTINCT ?p\n",
    "WHERE {\n",
    "    ?a a :Country ;\n",
    "         ?p ?x \n",
    "} LIMIT 200"
   ]
  },
  {
   "cell_type": "markdown",
   "metadata": {},
   "source": [
    "### Les propriétes liées à des sujets de type River"
   ]
  },
  {
   "cell_type": "code",
   "execution_count": null,
   "metadata": {
    "scrolled": true
   },
   "outputs": [],
   "source": [
    "%format any\n",
    "%display table \n",
    "%show 100\n",
    "\n",
    "\n",
    "PREFIX prefix: <http://prefix.cc/>\n",
    "PREFIX co: <http://purl.org/ontology/co/core#>\n",
    "PREFIX coun: <http://www.daml.org/2001/09/countries/iso-3166-ont#>\n",
    "prefix rdfs: <http://www.w3.org/2000/01/rdf-schema#>\n",
    "prefix owl: <http://www.w3.org/2002/07/owl#>\n",
    "prefix : <http://www.semwebtech.org/mondial/10/meta#>\n",
    "prefix mondial: <http://www.semwebtech.org/mondial/10/>\n",
    "SELECT DISTINCT ?p\n",
    "WHERE {\n",
    "    ?a a :River ;\n",
    "         ?p ?x \n",
    "} LIMIT 200"
   ]
  },
  {
   "cell_type": "raw",
   "metadata": {},
   "source": [
    "Exprimer les requetes qui retournent les informations suivantes :"
   ]
  },
  {
   "cell_type": "markdown",
   "metadata": {},
   "source": [
    "## Requetes simples\n"
   ]
  },
  {
   "cell_type": "raw",
   "metadata": {},
   "source": [
    "La liste des continents"
   ]
  },
  {
   "cell_type": "code",
   "execution_count": 2,
   "metadata": {},
   "outputs": [
    {
     "ename": "SyntaxError",
     "evalue": "invalid syntax (<ipython-input-2-725c06b2df98>, line 6)",
     "output_type": "error",
     "traceback": [
      "\u001b[0;36m  File \u001b[0;32m\"<ipython-input-2-725c06b2df98>\"\u001b[0;36m, line \u001b[0;32m6\u001b[0m\n\u001b[0;31m    PREFIX prefix: <http://prefix.cc/>\u001b[0m\n\u001b[0m           ^\u001b[0m\n\u001b[0;31mSyntaxError\u001b[0m\u001b[0;31m:\u001b[0m invalid syntax\n"
     ]
    }
   ],
   "source": [
    "%format any\n",
    "%display table \n",
    "%show 100\n",
    "\n",
    "\n",
    "PREFIX prefix: <http://prefix.cc/>\n",
    "PREFIX co: <http://purl.org/ontology/co/core#>\n",
    "PREFIX coun: <http://www.daml.org/2001/09/countries/iso-3166-ont#>\n",
    "prefix rdfs: <http://www.w3.org/2000/01/rdf-schema#>\n",
    "prefix owl: <http://www.w3.org/2002/07/owl#>\n",
    "prefix : <http://www.semwebtech.org/mondial/10/meta#>\n",
    "prefix mondial: <http://www.semwebtech.org/mondial/10/>\n",
    "SELECT ?c\n",
    "WHERE {\n",
    "    ?c a :Continent\n",
    "} "
   ]
  },
  {
   "cell_type": "raw",
   "metadata": {},
   "source": [
    "La liste des pays avec leur continent "
   ]
  },
  {
   "cell_type": "code",
   "execution_count": 3,
   "metadata": {},
   "outputs": [
    {
     "ename": "SyntaxError",
     "evalue": "invalid syntax (<ipython-input-3-8955bd33ccff>, line 5)",
     "output_type": "error",
     "traceback": [
      "\u001b[0;36m  File \u001b[0;32m\"<ipython-input-3-8955bd33ccff>\"\u001b[0;36m, line \u001b[0;32m5\u001b[0m\n\u001b[0;31m    PREFIX prefix: <http://prefix.cc/>\u001b[0m\n\u001b[0m           ^\u001b[0m\n\u001b[0;31mSyntaxError\u001b[0m\u001b[0;31m:\u001b[0m invalid syntax\n"
     ]
    }
   ],
   "source": [
    "%format any\n",
    "%display table \n",
    "\n",
    "\n",
    "PREFIX prefix: <http://prefix.cc/>\n",
    "PREFIX co: <http://purl.org/ontology/co/core#>\n",
    "PREFIX coun: <http://www.daml.org/2001/09/countries/iso-3166-ont#>\n",
    "prefix rdfs: <http://www.w3.org/2000/01/rdf-schema#>\n",
    "prefix owl: <http://www.w3.org/2002/07/owl#>\n",
    "prefix : <http://www.semwebtech.org/mondial/10/meta#>\n",
    "prefix mondial: <http://www.semwebtech.org/mondial/10/>\n",
    "SELECT ?c ?ct ?name\n",
    "WHERE {\n",
    "    ?c a :Country\n",
    "    .?c :encompassed ?ct\n",
    "    .?ct :name ?name\n",
    "} LIMIT 200"
   ]
  },
  {
   "cell_type": "raw",
   "metadata": {},
   "source": [
    "La liste des noms des pays du continent européen triés par ordre alphabétique"
   ]
  },
  {
   "cell_type": "code",
   "execution_count": 4,
   "metadata": {},
   "outputs": [
    {
     "ename": "SyntaxError",
     "evalue": "invalid syntax (<ipython-input-4-ea44f81c5d48>, line 6)",
     "output_type": "error",
     "traceback": [
      "\u001b[0;36m  File \u001b[0;32m\"<ipython-input-4-ea44f81c5d48>\"\u001b[0;36m, line \u001b[0;32m6\u001b[0m\n\u001b[0;31m    PREFIX prefix: <http://prefix.cc/>\u001b[0m\n\u001b[0m           ^\u001b[0m\n\u001b[0;31mSyntaxError\u001b[0m\u001b[0;31m:\u001b[0m invalid syntax\n"
     ]
    }
   ],
   "source": [
    "%format any\n",
    "%display table \n",
    "%show 20\n",
    "\n",
    "\n",
    "PREFIX prefix: <http://prefix.cc/>\n",
    "PREFIX co: <http://purl.org/ontology/co/core#>\n",
    "PREFIX coun: <http://www.daml.org/2001/09/countries/iso-3166-ont#>\n",
    "prefix rdfs: <http://www.w3.org/2000/01/rdf-schema#>\n",
    "prefix owl: <http://www.w3.org/2002/07/owl#>\n",
    "prefix : <http://www.semwebtech.org/mondial/10/meta#>\n",
    "prefix mondial: <http://www.semwebtech.org/mondial/10/>\n",
    "base <http://www.semwebtech.org/mondial/10/>\n",
    "\n",
    "SELECT ?name\n",
    "WHERE {\n",
    "    ?c a :Country\n",
    "    .?c :name ?name\n",
    "    .?c :encompassed ?ct\n",
    "    .?ct :name \"Europe\"\n",
    "} ORDER BY ?name "
   ]
  },
  {
   "cell_type": "raw",
   "metadata": {},
   "source": [
    "La liste des organisations dont le nom commence par 'U'. \n"
   ]
  },
  {
   "cell_type": "code",
   "execution_count": 5,
   "metadata": {},
   "outputs": [
    {
     "ename": "SyntaxError",
     "evalue": "invalid syntax (<ipython-input-5-666e9646db7b>, line 6)",
     "output_type": "error",
     "traceback": [
      "\u001b[0;36m  File \u001b[0;32m\"<ipython-input-5-666e9646db7b>\"\u001b[0;36m, line \u001b[0;32m6\u001b[0m\n\u001b[0;31m    PREFIX prefix: <http://prefix.cc/>\u001b[0m\n\u001b[0m           ^\u001b[0m\n\u001b[0;31mSyntaxError\u001b[0m\u001b[0;31m:\u001b[0m invalid syntax\n"
     ]
    }
   ],
   "source": [
    "%format any\n",
    "%display table \n",
    "%show 25\n",
    "\n",
    "\n",
    "PREFIX prefix: <http://prefix.cc/>\n",
    "PREFIX co: <http://purl.org/ontology/co/core#>\n",
    "PREFIX coun: <http://www.daml.org/2001/09/countries/iso-3166-ont#>\n",
    "prefix rdfs: <http://www.w3.org/2000/01/rdf-schema#>\n",
    "prefix owl: <http://www.w3.org/2002/07/owl#>\n",
    "prefix : <http://www.semwebtech.org/mondial/10/meta#>\n",
    "prefix mondial: <http://www.semwebtech.org/mondial/10/>\n",
    "base <http://www.semwebtech.org/mondial/10/>\n",
    "\n",
    "SELECT ?o ?name\n",
    "WHERE {\n",
    "    ?o a :Organization\n",
    "    . ?o :name ?name\n",
    "    .filter(regex(?name,'^U'))\n",
    "    } ORDER BY ?name "
   ]
  },
  {
   "cell_type": "raw",
   "metadata": {},
   "source": [
    "Les noms pays qui sont membres du conseil de sécurité des nations unis (UNSC) et dont le nom commence par 'A'"
   ]
  },
  {
   "cell_type": "code",
   "execution_count": 6,
   "metadata": {},
   "outputs": [
    {
     "ename": "SyntaxError",
     "evalue": "invalid syntax (<ipython-input-6-5a4b646c82d2>, line 6)",
     "output_type": "error",
     "traceback": [
      "\u001b[0;36m  File \u001b[0;32m\"<ipython-input-6-5a4b646c82d2>\"\u001b[0;36m, line \u001b[0;32m6\u001b[0m\n\u001b[0;31m    PREFIX prefix: <http://prefix.cc/>\u001b[0m\n\u001b[0m           ^\u001b[0m\n\u001b[0;31mSyntaxError\u001b[0m\u001b[0;31m:\u001b[0m invalid syntax\n"
     ]
    }
   ],
   "source": [
    "%format any\n",
    "%display table \n",
    "%show 25\n",
    "\n",
    "\n",
    "PREFIX prefix: <http://prefix.cc/>\n",
    "PREFIX co: <http://purl.org/ontology/co/core#>\n",
    "PREFIX coun: <http://www.daml.org/2001/09/countries/iso-3166-ont#>\n",
    "prefix rdfs: <http://www.w3.org/2000/01/rdf-schema#>\n",
    "prefix owl: <http://www.w3.org/2002/07/owl#>\n",
    "prefix : <http://www.semwebtech.org/mondial/10/meta#>\n",
    "prefix mondial: <http://www.semwebtech.org/mondial/10/>\n",
    "base <http://www.semwebtech.org/mondial/10/>\n",
    "\n",
    "SELECT ?name\n",
    "WHERE {\n",
    "    ?o a :Organization\n",
    "    . ?o :abbrev \"UNSC\"\n",
    "    . ?c :isMember ?o\n",
    "    . ?c :name ?name\n",
    "    .filter(regex(?name,'^A'))\n",
    "} ORDER BY ?name \n"
   ]
  },
  {
   "cell_type": "raw",
   "metadata": {},
   "source": [
    "Les noms pays qui ne sont pas membres des nations unis (UN) triés par nom"
   ]
  },
  {
   "cell_type": "code",
   "execution_count": 7,
   "metadata": {},
   "outputs": [
    {
     "ename": "SyntaxError",
     "evalue": "invalid syntax (<ipython-input-7-1fe3ceba3700>, line 6)",
     "output_type": "error",
     "traceback": [
      "\u001b[0;36m  File \u001b[0;32m\"<ipython-input-7-1fe3ceba3700>\"\u001b[0;36m, line \u001b[0;32m6\u001b[0m\n\u001b[0;31m    PREFIX prefix: <http://prefix.cc/>\u001b[0m\n\u001b[0m           ^\u001b[0m\n\u001b[0;31mSyntaxError\u001b[0m\u001b[0;31m:\u001b[0m invalid syntax\n"
     ]
    }
   ],
   "source": [
    "%format any\n",
    "%display table \n",
    "%show 25\n",
    "\n",
    "\n",
    "PREFIX prefix: <http://prefix.cc/>\n",
    "PREFIX co: <http://purl.org/ontology/co/core#>\n",
    "PREFIX coun: <http://www.daml.org/2001/09/countries/iso-3166-ont#>\n",
    "prefix rdfs: <http://www.w3.org/2000/01/rdf-schema#>\n",
    "prefix owl: <http://www.w3.org/2002/07/owl#>\n",
    "prefix : <http://www.semwebtech.org/mondial/10/meta#>\n",
    "prefix mondial: <http://www.semwebtech.org/mondial/10/>\n",
    "base <http://www.semwebtech.org/mondial/10/>\n",
    "\n",
    "SELECT ?name\n",
    "WHERE {\n",
    "   ?c a :Country\n",
    "    . ?c :name ?name\n",
    "    MINUS\n",
    "    {?o a :Organization\n",
    "    .?o :abbrev \"UN\"\n",
    "    .?c :isMember ?o\n",
    "    .?c :name ?name\n",
    "    }\n",
    "    \n",
    "} ORDER BY ?name \n"
   ]
  },
  {
   "cell_type": "raw",
   "metadata": {},
   "source": [
    "Les noms des pays avec une population de plus de 100 000 000 ainsi que leurs capitales"
   ]
  },
  {
   "cell_type": "code",
   "execution_count": 8,
   "metadata": {},
   "outputs": [
    {
     "ename": "SyntaxError",
     "evalue": "invalid syntax (<ipython-input-8-f60e22a5088f>, line 6)",
     "output_type": "error",
     "traceback": [
      "\u001b[0;36m  File \u001b[0;32m\"<ipython-input-8-f60e22a5088f>\"\u001b[0;36m, line \u001b[0;32m6\u001b[0m\n\u001b[0;31m    PREFIX prefix: <http://prefix.cc/>\u001b[0m\n\u001b[0m           ^\u001b[0m\n\u001b[0;31mSyntaxError\u001b[0m\u001b[0;31m:\u001b[0m invalid syntax\n"
     ]
    }
   ],
   "source": [
    "%format any\n",
    "%display table \n",
    "%show 25\n",
    "\n",
    "\n",
    "PREFIX prefix: <http://prefix.cc/>\n",
    "PREFIX co: <http://purl.org/ontology/co/core#>\n",
    "PREFIX coun: <http://www.daml.org/2001/09/countries/iso-3166-ont#>\n",
    "prefix rdfs: <http://www.w3.org/2000/01/rdf-schema#>\n",
    "prefix owl: <http://www.w3.org/2002/07/owl#>\n",
    "prefix : <http://www.semwebtech.org/mondial/10/meta#>\n",
    "prefix mondial: <http://www.semwebtech.org/mondial/10/>\n",
    "base <http://www.semwebtech.org/mondial/10/>\n",
    "\n",
    "SELECT ?name ?capital ?popn\n",
    "WHERE {\n",
    "   ?c a :Country\n",
    "    . ?c :name ?name\n",
    "    . ?c :capital ?capital\n",
    "    . ?c :population ?popn\n",
    "    .filter (?popn >= 100000000)\n",
    "} ORDER BY  desc(?popn)\n"
   ]
  },
  {
   "cell_type": "raw",
   "metadata": {},
   "source": [
    "Les nom des pays avec leur gouvernement"
   ]
  },
  {
   "cell_type": "code",
   "execution_count": 9,
   "metadata": {},
   "outputs": [
    {
     "ename": "SyntaxError",
     "evalue": "invalid syntax (<ipython-input-9-1b43f328bc10>, line 6)",
     "output_type": "error",
     "traceback": [
      "\u001b[0;36m  File \u001b[0;32m\"<ipython-input-9-1b43f328bc10>\"\u001b[0;36m, line \u001b[0;32m6\u001b[0m\n\u001b[0;31m    PREFIX prefix: <http://prefix.cc/>\u001b[0m\n\u001b[0m           ^\u001b[0m\n\u001b[0;31mSyntaxError\u001b[0m\u001b[0;31m:\u001b[0m invalid syntax\n"
     ]
    }
   ],
   "source": [
    "%format any\n",
    "%display table \n",
    "%show 25\n",
    "\n",
    "\n",
    "PREFIX prefix: <http://prefix.cc/>\n",
    "PREFIX co: <http://purl.org/ontology/co/core#>\n",
    "PREFIX coun: <http://www.daml.org/2001/09/countries/iso-3166-ont#>\n",
    "prefix rdfs: <http://www.w3.org/2000/01/rdf-schema#>\n",
    "prefix owl: <http://www.w3.org/2002/07/owl#>\n",
    "prefix : <http://www.semwebtech.org/mondial/10/meta#>\n",
    "prefix mondial: <http://www.semwebtech.org/mondial/10/>\n",
    "base <http://www.semwebtech.org/mondial/10/>\n",
    "\n",
    "SELECT ?name ?government \n",
    "WHERE {\n",
    "   ?c a :Country\n",
    "    .?c :name ?name\n",
    "    .?c :government ?government \n",
    "} ORDER BY  ?name \n"
   ]
  },
  {
   "cell_type": "raw",
   "metadata": {},
   "source": [
    "Les nom des pays avec leur gouvernement, s'ils en ont"
   ]
  },
  {
   "cell_type": "code",
   "execution_count": 10,
   "metadata": {},
   "outputs": [
    {
     "ename": "SyntaxError",
     "evalue": "invalid syntax (<ipython-input-10-0e0d3fa103dc>, line 6)",
     "output_type": "error",
     "traceback": [
      "\u001b[0;36m  File \u001b[0;32m\"<ipython-input-10-0e0d3fa103dc>\"\u001b[0;36m, line \u001b[0;32m6\u001b[0m\n\u001b[0;31m    PREFIX prefix: <http://prefix.cc/>\u001b[0m\n\u001b[0m           ^\u001b[0m\n\u001b[0;31mSyntaxError\u001b[0m\u001b[0;31m:\u001b[0m invalid syntax\n"
     ]
    }
   ],
   "source": [
    "%format any\n",
    "%display table \n",
    "%show 25\n",
    "\n",
    "\n",
    "PREFIX prefix: <http://prefix.cc/>\n",
    "PREFIX co: <http://purl.org/ontology/co/core#>\n",
    "PREFIX coun: <http://www.daml.org/2001/09/countries/iso-3166-ont#>\n",
    "prefix rdfs: <http://www.w3.org/2000/01/rdf-schema#>\n",
    "prefix owl: <http://www.w3.org/2002/07/owl#>\n",
    "prefix : <http://www.semwebtech.org/mondial/10/meta#>\n",
    "prefix mondial: <http://www.semwebtech.org/mondial/10/>\n",
    "base <http://www.semwebtech.org/mondial/10/>\n",
    "\n",
    "SELECT ?name ?government \n",
    "WHERE {\n",
    "   ?c a :Country\n",
    "    .?c :name ?name\n",
    "    .?c :government ?government\n",
    "} ORDER BY  ?name\n"
   ]
  },
  {
   "cell_type": "raw",
   "metadata": {},
   "source": [
    "Les nom des pays sans gouvernement"
   ]
  },
  {
   "cell_type": "code",
   "execution_count": 11,
   "metadata": {},
   "outputs": [
    {
     "ename": "SyntaxError",
     "evalue": "invalid syntax (<ipython-input-11-16ced7a07c67>, line 6)",
     "output_type": "error",
     "traceback": [
      "\u001b[0;36m  File \u001b[0;32m\"<ipython-input-11-16ced7a07c67>\"\u001b[0;36m, line \u001b[0;32m6\u001b[0m\n\u001b[0;31m    PREFIX prefix: <http://prefix.cc/>\u001b[0m\n\u001b[0m           ^\u001b[0m\n\u001b[0;31mSyntaxError\u001b[0m\u001b[0;31m:\u001b[0m invalid syntax\n"
     ]
    }
   ],
   "source": [
    "%format any\n",
    "%display table \n",
    "%show 25\n",
    "\n",
    "\n",
    "PREFIX prefix: <http://prefix.cc/>\n",
    "PREFIX co: <http://purl.org/ontology/co/core#>\n",
    "PREFIX coun: <http://www.daml.org/2001/09/countries/iso-3166-ont#>\n",
    "prefix rdfs: <http://www.w3.org/2000/01/rdf-schema#>\n",
    "prefix owl: <http://www.w3.org/2002/07/owl#>\n",
    "prefix : <http://www.semwebtech.org/mondial/10/meta#>\n",
    "prefix mondial: <http://www.semwebtech.org/mondial/10/>\n",
    "base <http://www.semwebtech.org/mondial/10/>\n",
    "\n",
    "SELECT ?name \n",
    "WHERE {\n",
    "      ?c a :Country\n",
    "    .?c :name ?name\n",
    "    .?c :government ?government\n",
    "    MINUS\n",
    "        {\n",
    "            ?c a :Country\n",
    "                 .?c :name ?name\n",
    "        }\n",
    "} ORDER BY  ?name\n"
   ]
  },
  {
   "cell_type": "markdown",
   "metadata": {},
   "source": [
    "## Expressions de chemins"
   ]
  },
  {
   "cell_type": "markdown",
   "metadata": {},
   "source": [
    "Les affluents (:River) directs et indirects de la mer du nord"
   ]
  },
  {
   "cell_type": "code",
   "execution_count": null,
   "metadata": {
    "scrolled": false
   },
   "outputs": [],
   "source": [
    "%show 20\n",
    "# %format n3\n",
    "%format ANY\n",
    "#%lang en\n",
    "#%display table\n",
    "#%display diagram svg\n",
    "PREFIX prefix: <http://prefix.cc/>\n",
    "PREFIX co: <http://purl.org/ontology/co/core#>\n",
    "PREFIX coun: <http://www.daml.org/2001/09/countries/iso-3166-ont#>\n",
    "prefix rdfs: <http://www.w3.org/2000/01/rdf-schema#>\n",
    "prefix owl: <http://www.w3.org/2002/07/owl#>\n",
    "prefix : <http://www.semwebtech.org/mondial/10/meta#>\n",
    "prefix mondial: <http://www.semwebtech.org/mondial/10/>\n",
    "base <http://www.semwebtech.org/mondial/10/>\n",
    "SELECT ?c\n",
    "WHERE { ?c :flowsInto <seas/North+Sea/> ; a :River . }\n"
   ]
  },
  {
   "cell_type": "markdown",
   "metadata": {},
   "source": [
    "le nombre d'affluents (:River) directs et indirects de la mer du nord"
   ]
  },
  {
   "cell_type": "code",
   "execution_count": null,
   "metadata": {},
   "outputs": [],
   "source": [
    "%show 20\n",
    "# %format n3\n",
    "%format ANY\n",
    "#%lang en\n",
    "#%display table\n",
    "#%display diagram svg\n",
    "PREFIX prefix: <http://prefix.cc/>\n",
    "PREFIX co: <http://purl.org/ontology/co/core#>\n",
    "PREFIX coun: <http://www.daml.org/2001/09/countries/iso-3166-ont#>\n",
    "prefix rdfs: <http://www.w3.org/2000/01/rdf-schema#>\n",
    "prefix owl: <http://www.w3.org/2002/07/owl#>\n",
    "prefix : <http://www.semwebtech.org/mondial/10/meta#>\n",
    "prefix mondial: <http://www.semwebtech.org/mondial/10/>\n",
    "base <http://www.semwebtech.org/mondial/10/>\n",
    "SELECT ()\n",
    "WHERE { }"
   ]
  },
  {
   "cell_type": "markdown",
   "metadata": {},
   "source": [
    "Les affluents (:River) directs ou indirects de la mer du nord qui  passent  par le Rhin"
   ]
  },
  {
   "cell_type": "code",
   "execution_count": null,
   "metadata": {},
   "outputs": [],
   "source": [
    "%show 20\n",
    "# %format n3\n",
    "%format ANY\n",
    "#%lang en\n",
    "#%display table\n",
    "#%display diagram svg\n",
    "PREFIX prefix: <http://prefix.cc/>\n",
    "PREFIX co: <http://purl.org/ontology/co/core#>\n",
    "PREFIX coun: <http://www.daml.org/2001/09/countries/iso-3166-ont#>\n",
    "prefix rdfs: <http://www.w3.org/2000/01/rdf-schema#>\n",
    "prefix owl: <http://www.w3.org/2002/07/owl#>\n",
    "prefix : <http://www.semwebtech.org/mondial/10/meta#>\n",
    "prefix mondial: <http://www.semwebtech.org/mondial/10/>\n",
    "base <http://www.semwebtech.org/mondial/10/>\n",
    "SELECT \n",
    "WHERE { \n",
    "       }"
   ]
  },
  {
   "cell_type": "markdown",
   "metadata": {},
   "source": [
    "Les affluents (:River) directs et indirects de la mer du nord qui ne passent pas par le Rhin\n"
   ]
  },
  {
   "cell_type": "code",
   "execution_count": null,
   "metadata": {
    "scrolled": true
   },
   "outputs": [],
   "source": [
    "%show 20\n",
    "# %format n3\n",
    "%format ANY\n",
    "#%lang en\n",
    "#%display table\n",
    "#%display diagram svg\n",
    "PREFIX prefix: <http://prefix.cc/>\n",
    "PREFIX co: <http://purl.org/ontology/co/core#>\n",
    "PREFIX coun: <http://www.daml.org/2001/09/countries/iso-3166-ont#>\n",
    "prefix rdfs: <http://www.w3.org/2000/01/rdf-schema#>\n",
    "prefix owl: <http://www.w3.org/2002/07/owl#>\n",
    "prefix : <http://www.semwebtech.org/mondial/10/meta#>\n",
    "prefix mondial: <http://www.semwebtech.org/mondial/10/>\n",
    "base <http://www.semwebtech.org/mondial/10/>\n",
    "SELECT \n",
    "WHERE { \n",
    "       }\n"
   ]
  },
  {
   "cell_type": "markdown",
   "metadata": {},
   "source": [
    "Les rivières avec au moins vingt affluents."
   ]
  },
  {
   "cell_type": "code",
   "execution_count": null,
   "metadata": {
    "scrolled": false
   },
   "outputs": [],
   "source": [
    "%show 20\n",
    "# %format n3\n",
    "%format ANY\n",
    "#%lang en\n",
    "#%display table\n",
    "#%display diagram svg\n",
    "PREFIX prefix: <http://prefix.cc/>\n",
    "PREFIX co: <http://purl.org/ontology/co/core#>\n",
    "PREFIX coun: <http://www.daml.org/2001/09/countries/iso-3166-ont#>\n",
    "prefix rdfs: <http://www.w3.org/2000/01/rdf-schema#>\n",
    "prefix owl: <http://www.w3.org/2002/07/owl#>\n",
    "prefix : <http://www.semwebtech.org/mondial/10/meta#>\n",
    "prefix mondial: <http://www.semwebtech.org/mondial/10/>\n",
    "base <http://www.semwebtech.org/mondial/10/>\n",
    "SELECT \n",
    "WHERE { }\n",
    "GROUP BY \n",
    "HAVING ()\n"
   ]
  },
  {
   "cell_type": "markdown",
   "metadata": {},
   "source": [
    "Les lacs traversés par le Rhone"
   ]
  },
  {
   "cell_type": "code",
   "execution_count": null,
   "metadata": {
    "scrolled": false
   },
   "outputs": [],
   "source": [
    "%show 20\n",
    "# %format n3\n",
    "%format ANY\n",
    "#%lsmagics\n",
    "#%lang en\n",
    "#%display table\n",
    "#%display diagram svg\n",
    "PREFIX prefix: <http://prefix.cc/>\n",
    "PREFIX co: <http://purl.org/ontology/co/core#>\n",
    "PREFIX coun: <http://www.daml.org/2001/09/countries/iso-3166-ont#>\n",
    "prefix rdfs: <http://www.w3.org/2000/01/rdf-schema#>\n",
    "prefix owl: <http://www.w3.org/2002/07/owl#>\n",
    "prefix : <http://www.semwebtech.org/mondial/10/meta#>\n",
    "prefix mondial: <http://www.semwebtech.org/mondial/10/>\n",
    "prefix rivers: <http://www.semwebtech.org/mondial/10/rivers/> \n",
    "base <http://www.semwebtech.org/mondial/10/>\n",
    "SELECT \n",
    "WHERE { \n",
    "}\n"
   ]
  },
  {
   "cell_type": "markdown",
   "metadata": {},
   "source": [
    "Les pays avec plus que 10000000 habitants traversés par le Danube"
   ]
  },
  {
   "cell_type": "code",
   "execution_count": null,
   "metadata": {
    "scrolled": false
   },
   "outputs": [],
   "source": [
    "%show 20\n",
    "# %format n3\n",
    "%format ANY\n",
    "#%lsmagics\n",
    "#%lang en\n",
    "#%display table\n",
    "#%display diagram svg\n",
    "PREFIX prefix: <http://prefix.cc/>\n",
    "PREFIX co: <http://purl.org/ontology/co/core#>\n",
    "PREFIX coun: <http://www.daml.org/2001/09/countries/iso-3166-ont#>\n",
    "prefix rdfs: <http://www.w3.org/2000/01/rdf-schema#>\n",
    "prefix owl: <http://www.w3.org/2002/07/owl#>\n",
    "prefix : <http://www.semwebtech.org/mondial/10/meta#>\n",
    "prefix mondial: <http://www.semwebtech.org/mondial/10/>\n",
    "prefix rivers: <http://www.semwebtech.org/mondial/10/rivers/> \n",
    "base <http://www.semwebtech.org/mondial/10/>\n",
    "SELECT \n",
    "WHERE { \n",
    "            }\n"
   ]
  },
  {
   "cell_type": "markdown",
   "metadata": {},
   "source": [
    "## Divison"
   ]
  },
  {
   "cell_type": "markdown",
   "metadata": {},
   "source": [
    "Les Pays qui appartiennent à toutes les organisations auxquelles appartient aussi le Liechtenstein"
   ]
  },
  {
   "cell_type": "code",
   "execution_count": null,
   "metadata": {
    "scrolled": false
   },
   "outputs": [],
   "source": [
    "%show 200\n",
    "# %format n3\n",
    "%format ANY\n",
    "#%lsmagics\n",
    "#%lang en\n",
    "#%display table\n",
    "#%display diagram svg\n",
    "PREFIX prefix: <http://prefix.cc/>\n",
    "PREFIX co: <http://purl.org/ontology/co/core#>\n",
    "PREFIX coun: <http://www.daml.org/2001/09/countries/iso-3166-ont#>\n",
    "prefix rdfs: <http://www.w3.org/2000/01/rdf-schema#>\n",
    "prefix owl: <http://www.w3.org/2002/07/owl#>\n",
    "prefix : <http://www.semwebtech.org/mondial/10/meta#>\n",
    "prefix mondial: <http://www.semwebtech.org/mondial/10/>\n",
    "prefix rivers: <http://www.semwebtech.org/mondial/10/rivers/> \n",
    "base <http://www.semwebtech.org/mondial/10/>\n",
    "SELECT \n",
    "WHERE { \n",
    "}\n"
   ]
  }
 ],
 "metadata": {
  "kernelspec": {
   "display_name": "Python 3",
   "language": "python",
   "name": "python3"
  },
  "language_info": {
   "codemirror_mode": {
    "name": "ipython",
    "version": 3
   },
   "file_extension": ".py",
   "mimetype": "text/x-python",
   "name": "python",
   "nbconvert_exporter": "python",
   "pygments_lexer": "ipython3",
   "version": "3.9.1"
  }
 },
 "nbformat": 4,
 "nbformat_minor": 4
}
