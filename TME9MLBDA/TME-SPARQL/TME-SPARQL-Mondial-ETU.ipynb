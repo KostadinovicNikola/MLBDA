{
 "cells": [
  {
   "cell_type": "markdown",
   "metadata": {},
   "source": [
    "# Installation SPARQL Kernel"
   ]
  },
  {
   "cell_type": "markdown",
   "metadata": {},
   "source": [
    "https://github.com/paulovn/sparql-kernel"
   ]
  },
  {
   "cell_type": "raw",
   "metadata": {},
   "source": [
    "pip install sparqlkernel\n",
    "jupyter sparqlkernel install [--user] [--logdir <dir>]"
   ]
  },
  {
   "cell_type": "code",
   "execution_count": null,
   "metadata": {},
   "outputs": [],
   "source": [
    "%lsmagics"
   ]
  },
  {
   "cell_type": "markdown",
   "metadata": {},
   "source": [
    "# Requêtes MONDIAL"
   ]
  },
  {
   "cell_type": "code",
   "execution_count": null,
   "metadata": {},
   "outputs": [],
   "source": [
    "#%endpoint http://localhost:3030/mondial/sparql\n",
    "%endpoint http://www.semwebtech.org/mondial/10/sparql\n",
    "%lang en\n",
    "%log debug"
   ]
  },
  {
   "cell_type": "markdown",
   "metadata": {},
   "source": [
    "## Exploration du graphe "
   ]
  },
  {
   "cell_type": "markdown",
   "metadata": {},
   "source": [
    "### URI avec leur types"
   ]
  },
  {
   "cell_type": "code",
   "execution_count": null,
   "metadata": {},
   "outputs": [],
   "source": [
    "%format any\n",
    "%display table withtypes\n",
    "%show 100\n",
    "\n",
    "PREFIX prefix: <http://prefix.cc/>\n",
    "PREFIX co: <http://purl.org/ontology/co/core#>\n",
    "PREFIX coun: <http://www.daml.org/2001/09/countries/iso-3166-ont#>\n",
    "prefix rdfs: <http://www.w3.org/2000/01/rdf-schema#>\n",
    "prefix owl: <http://www.w3.org/2002/07/owl#>\n",
    "prefix mon: <http://www.semwebtech.org/mondial/10/meta#>\n",
    "prefix mondial: <http://www.semwebtech.org/mondial/10/>\n",
    "SELECT DISTINCT ?t\n",
    "WHERE {\n",
    "    ?a a ?t\n",
    "} ORDER BY ?t"
   ]
  },
  {
   "cell_type": "markdown",
   "metadata": {},
   "source": [
    "### Les propriétes liées à des sujets de type Country"
   ]
  },
  {
   "cell_type": "code",
   "execution_count": null,
   "metadata": {},
   "outputs": [],
   "source": [
    "%format any\n",
    "%display table \n",
    "%show 100\n",
    "\n",
    "\n",
    "PREFIX prefix: <http://prefix.cc/>\n",
    "PREFIX co: <http://purl.org/ontology/co/core#>\n",
    "PREFIX coun: <http://www.daml.org/2001/09/countries/iso-3166-ont#>\n",
    "prefix rdfs: <http://www.w3.org/2000/01/rdf-schema#>\n",
    "prefix owl: <http://www.w3.org/2002/07/owl#>\n",
    "prefix : <http://www.semwebtech.org/mondial/10/meta#>\n",
    "prefix mondial: <http://www.semwebtech.org/mondial/10/>\n",
    "SELECT DISTINCT ?p\n",
    "WHERE {\n",
    "    ?a a :Country ;\n",
    "         ?p ?x \n",
    "} LIMIT 200"
   ]
  },
  {
   "cell_type": "markdown",
   "metadata": {},
   "source": [
    "### Les propriétes liées à des sujets de type River"
   ]
  },
  {
   "cell_type": "code",
   "execution_count": null,
   "metadata": {
    "scrolled": true
   },
   "outputs": [],
   "source": [
    "%format any\n",
    "%display table \n",
    "%show 100\n",
    "\n",
    "\n",
    "PREFIX prefix: <http://prefix.cc/>\n",
    "PREFIX co: <http://purl.org/ontology/co/core#>\n",
    "PREFIX coun: <http://www.daml.org/2001/09/countries/iso-3166-ont#>\n",
    "prefix rdfs: <http://www.w3.org/2000/01/rdf-schema#>\n",
    "prefix owl: <http://www.w3.org/2002/07/owl#>\n",
    "prefix : <http://www.semwebtech.org/mondial/10/meta#>\n",
    "prefix mondial: <http://www.semwebtech.org/mondial/10/>\n",
    "SELECT DISTINCT ?p\n",
    "WHERE {\n",
    "    ?a a :River ;\n",
    "         ?p ?x \n",
    "} LIMIT 200"
   ]
  },
  {
   "cell_type": "raw",
   "metadata": {},
   "source": [
    "Exprimer les requetes qui retournent les informations suivantes :"
   ]
  },
  {
   "cell_type": "markdown",
   "metadata": {},
   "source": [
    "## Requetes simples\n"
   ]
  },
  {
   "cell_type": "raw",
   "metadata": {},
   "source": [
    "La liste des continents"
   ]
  },
  {
   "cell_type": "code",
   "execution_count": null,
   "metadata": {},
   "outputs": [],
   "source": [
    "%format any\n",
    "%display table \n",
    "%show 100\n",
    "\n",
    "\n",
    "PREFIX prefix: <http://prefix.cc/>\n",
    "PREFIX co: <http://purl.org/ontology/co/core#>\n",
    "PREFIX coun: <http://www.daml.org/2001/09/countries/iso-3166-ont#>\n",
    "prefix rdfs: <http://www.w3.org/2000/01/rdf-schema#>\n",
    "prefix owl: <http://www.w3.org/2002/07/owl#>\n",
    "prefix : <http://www.semwebtech.org/mondial/10/meta#>\n",
    "prefix mondial: <http://www.semwebtech.org/mondial/10/>\n",
    "SELECT ?c\n",
    "WHERE {\n",
    "    ?c a :Continent\n",
    "} "
   ]
  },
  {
   "cell_type": "raw",
   "metadata": {},
   "source": [
    "La liste des pays avec leur continent "
   ]
  },
  {
   "cell_type": "code",
   "execution_count": null,
   "metadata": {},
   "outputs": [],
   "source": [
    "%format any\n",
    "%display table \n",
    "\n",
    "\n",
    "PREFIX prefix: <http://prefix.cc/>\n",
    "PREFIX co: <http://purl.org/ontology/co/core#>\n",
    "PREFIX coun: <http://www.daml.org/2001/09/countries/iso-3166-ont#>\n",
    "prefix rdfs: <http://www.w3.org/2000/01/rdf-schema#>\n",
    "prefix owl: <http://www.w3.org/2002/07/owl#>\n",
    "prefix : <http://www.semwebtech.org/mondial/10/meta#>\n",
    "prefix mondial: <http://www.semwebtech.org/mondial/10/>\n",
    "SELECT ?c ?ct ?name\n",
    "WHERE {\n",
    "    ?c a :Country\n",
    "    .?c :encompassed ?ct\n",
    "    .?ct :name ?name\n",
    "} LIMIT 200"
   ]
  },
  {
   "cell_type": "raw",
   "metadata": {},
   "source": [
    "La liste des noms des pays du continent européen triés par ordre alphabétique"
   ]
  },
  {
   "cell_type": "code",
   "execution_count": null,
   "metadata": {},
   "outputs": [],
   "source": [
    "%format any\n",
    "%display table \n",
    "%show 20\n",
    "\n",
    "\n",
    "PREFIX prefix: <http://prefix.cc/>\n",
    "PREFIX co: <http://purl.org/ontology/co/core#>\n",
    "PREFIX coun: <http://www.daml.org/2001/09/countries/iso-3166-ont#>\n",
    "prefix rdfs: <http://www.w3.org/2000/01/rdf-schema#>\n",
    "prefix owl: <http://www.w3.org/2002/07/owl#>\n",
    "prefix : <http://www.semwebtech.org/mondial/10/meta#>\n",
    "prefix mondial: <http://www.semwebtech.org/mondial/10/>\n",
    "base <http://www.semwebtech.org/mondial/10/>\n",
    "\n",
    "SELECT ?name\n",
    "WHERE {\n",
    "    ?c a :Country\n",
    "    .?c :name ?name\n",
    "    .?c :encompassed ?ct\n",
    "    .?ct :name \"Europe\"\n",
    "} ORDER BY ?name "
   ]
  },
  {
   "cell_type": "raw",
   "metadata": {},
   "source": [
    "La liste des organisations dont le nom commence par 'U'. \n"
   ]
  },
  {
   "cell_type": "code",
   "execution_count": null,
   "metadata": {},
   "outputs": [],
   "source": [
    "%format any\n",
    "%display table \n",
    "%show 25\n",
    "\n",
    "\n",
    "PREFIX prefix: <http://prefix.cc/>\n",
    "PREFIX co: <http://purl.org/ontology/co/core#>\n",
    "PREFIX coun: <http://www.daml.org/2001/09/countries/iso-3166-ont#>\n",
    "prefix rdfs: <http://www.w3.org/2000/01/rdf-schema#>\n",
    "prefix owl: <http://www.w3.org/2002/07/owl#>\n",
    "prefix : <http://www.semwebtech.org/mondial/10/meta#>\n",
    "prefix mondial: <http://www.semwebtech.org/mondial/10/>\n",
    "base <http://www.semwebtech.org/mondial/10/>\n",
    "\n",
    "SELECT ?o ?name\n",
    "WHERE {\n",
    "    ?o a :Organization\n",
    "    . ?o :name ?name\n",
    "    .filter(regex(?name,'^U'))\n",
    "    } ORDER BY ?name "
   ]
  },
  {
   "cell_type": "raw",
   "metadata": {},
   "source": [
    "Les noms pays qui sont membres du conseil de sécurité des nations unis (UNSC) et dont le nom commence par 'A'"
   ]
  },
  {
   "cell_type": "code",
   "execution_count": null,
   "metadata": {},
   "outputs": [],
   "source": [
    "%format any\n",
    "%display table \n",
    "%show 25\n",
    "\n",
    "\n",
    "PREFIX prefix: <http://prefix.cc/>\n",
    "PREFIX co: <http://purl.org/ontology/co/core#>\n",
    "PREFIX coun: <http://www.daml.org/2001/09/countries/iso-3166-ont#>\n",
    "prefix rdfs: <http://www.w3.org/2000/01/rdf-schema#>\n",
    "prefix owl: <http://www.w3.org/2002/07/owl#>\n",
    "prefix : <http://www.semwebtech.org/mondial/10/meta#>\n",
    "prefix mondial: <http://www.semwebtech.org/mondial/10/>\n",
    "base <http://www.semwebtech.org/mondial/10/>\n",
    "\n",
    "SELECT ?name\n",
    "WHERE {\n",
    "    ?o a :Organization\n",
    "    . ?o :abbrev \"UNSC\"\n",
    "    . ?c :isMember ?o\n",
    "    . ?c :name ?name\n",
    "    .filter(regex(?name,'^A'))\n",
    "} ORDER BY ?name \n"
   ]
  },
  {
   "cell_type": "raw",
   "metadata": {},
   "source": [
    "Les noms pays qui ne sont pas membres des nations unis (UN) triés par nom"
   ]
  },
  {
   "cell_type": "code",
   "execution_count": null,
   "metadata": {},
   "outputs": [],
   "source": [
    "%format any\n",
    "%display table \n",
    "%show 25\n",
    "\n",
    "\n",
    "PREFIX prefix: <http://prefix.cc/>\n",
    "PREFIX co: <http://purl.org/ontology/co/core#>\n",
    "PREFIX coun: <http://www.daml.org/2001/09/countries/iso-3166-ont#>\n",
    "prefix rdfs: <http://www.w3.org/2000/01/rdf-schema#>\n",
    "prefix owl: <http://www.w3.org/2002/07/owl#>\n",
    "prefix : <http://www.semwebtech.org/mondial/10/meta#>\n",
    "prefix mondial: <http://www.semwebtech.org/mondial/10/>\n",
    "base <http://www.semwebtech.org/mondial/10/>\n",
    "\n",
    "SELECT ?name\n",
    "WHERE {\n",
    "   ?c a :Country\n",
    "    . ?c :name ?name\n",
    "    MINUS\n",
    "    {?o a :Organization\n",
    "    .?o :abbrev \"UN\"\n",
    "    .?c :isMember ?o\n",
    "    .?c :name ?name\n",
    "    }\n",
    "    \n",
    "} ORDER BY ?name \n"
   ]
  },
  {
   "cell_type": "raw",
   "metadata": {},
   "source": [
    "Les noms des pays avec une population de plus de 100 000 000 ainsi que leurs capitales"
   ]
  },
  {
   "cell_type": "code",
   "execution_count": null,
   "metadata": {},
   "outputs": [],
   "source": [
    "%format any\n",
    "%display table \n",
    "%show 25\n",
    "\n",
    "\n",
    "PREFIX prefix: <http://prefix.cc/>\n",
    "PREFIX co: <http://purl.org/ontology/co/core#>\n",
    "PREFIX coun: <http://www.daml.org/2001/09/countries/iso-3166-ont#>\n",
    "prefix rdfs: <http://www.w3.org/2000/01/rdf-schema#>\n",
    "prefix owl: <http://www.w3.org/2002/07/owl#>\n",
    "prefix : <http://www.semwebtech.org/mondial/10/meta#>\n",
    "prefix mondial: <http://www.semwebtech.org/mondial/10/>\n",
    "base <http://www.semwebtech.org/mondial/10/>\n",
    "\n",
    "SELECT ?name ?capital ?popn\n",
    "WHERE {\n",
    "   ?c a :Country\n",
    "    . ?c :name ?name\n",
    "    . ?c :capital ?capital\n",
    "    . ?c :population ?popn\n",
    "    .filter (?popn >= 100000000)\n",
    "} ORDER BY  desc(?popn)\n"
   ]
  },
  {
   "cell_type": "raw",
   "metadata": {},
   "source": [
    "Les nom des pays avec leur gouvernement"
   ]
  },
  {
   "cell_type": "code",
   "execution_count": null,
   "metadata": {},
   "outputs": [],
   "source": [
    "%format any\n",
    "%display table \n",
    "%show 25\n",
    "\n",
    "\n",
    "PREFIX prefix: <http://prefix.cc/>\n",
    "PREFIX co: <http://purl.org/ontology/co/core#>\n",
    "PREFIX coun: <http://www.daml.org/2001/09/countries/iso-3166-ont#>\n",
    "prefix rdfs: <http://www.w3.org/2000/01/rdf-schema#>\n",
    "prefix owl: <http://www.w3.org/2002/07/owl#>\n",
    "prefix : <http://www.semwebtech.org/mondial/10/meta#>\n",
    "prefix mondial: <http://www.semwebtech.org/mondial/10/>\n",
    "base <http://www.semwebtech.org/mondial/10/>\n",
    "\n",
    "SELECT ?name ?government \n",
    "WHERE {\n",
    "   ?c a :Country\n",
    "    .?c :name ?name\n",
    "    .?c :government ?government \n",
    "} ORDER BY  ?name \n"
   ]
  },
  {
   "cell_type": "raw",
   "metadata": {},
   "source": [
    "Les nom des pays avec leur gouvernement, s'ils en ont"
   ]
  },
  {
   "cell_type": "code",
   "execution_count": null,
   "metadata": {},
   "outputs": [],
   "source": [
    "%format any\n",
    "%display table \n",
    "%show 25\n",
    "\n",
    "\n",
    "PREFIX prefix: <http://prefix.cc/>\n",
    "PREFIX co: <http://purl.org/ontology/co/core#>\n",
    "PREFIX coun: <http://www.daml.org/2001/09/countries/iso-3166-ont#>\n",
    "prefix rdfs: <http://www.w3.org/2000/01/rdf-schema#>\n",
    "prefix owl: <http://www.w3.org/2002/07/owl#>\n",
    "prefix : <http://www.semwebtech.org/mondial/10/meta#>\n",
    "prefix mondial: <http://www.semwebtech.org/mondial/10/>\n",
    "base <http://www.semwebtech.org/mondial/10/>\n",
    "\n",
    "SELECT ?name ?government \n",
    "WHERE {\n",
    "   ?c a :Country\n",
    "    .?c :name ?name\n",
    "    .?c :government ?government\n",
    "} ORDER BY  ?name\n"
   ]
  },
  {
   "cell_type": "raw",
   "metadata": {},
   "source": [
    "Les nom des pays sans gouvernement"
   ]
  },
  {
   "cell_type": "code",
   "execution_count": null,
   "metadata": {},
   "outputs": [],
   "source": [
    "%format any\n",
    "%display table \n",
    "%show 25\n",
    "\n",
    "\n",
    "PREFIX prefix: <http://prefix.cc/>\n",
    "PREFIX co: <http://purl.org/ontology/co/core#>\n",
    "PREFIX coun: <http://www.daml.org/2001/09/countries/iso-3166-ont#>\n",
    "prefix rdfs: <http://www.w3.org/2000/01/rdf-schema#>\n",
    "prefix owl: <http://www.w3.org/2002/07/owl#>\n",
    "prefix : <http://www.semwebtech.org/mondial/10/meta#>\n",
    "prefix mondial: <http://www.semwebtech.org/mondial/10/>\n",
    "base <http://www.semwebtech.org/mondial/10/>\n",
    "\n",
    "SELECT ?name \n",
    "WHERE {\n",
    "      ?c a :Country\n",
    "    .?c :name ?name\n",
    "    .?c :government ?government\n",
    "    MINUS\n",
    "        {\n",
    "            ?c a :Country\n",
    "                 .?c :name ?name\n",
    "        }\n",
    "} ORDER BY  ?name\n"
   ]
  },
  {
   "cell_type": "markdown",
   "metadata": {},
   "source": [
    "## Expressions de chemins"
   ]
  },
  {
   "cell_type": "markdown",
   "metadata": {},
   "source": [
    "Les affluents (:River) directs et indirects de la mer du nord"
   ]
  },
  {
   "cell_type": "code",
   "execution_count": 4,
   "metadata": {
    "scrolled": false
   },
   "outputs": [
    {
     "data": {
      "text/html": [
       "<div class=\"krn-spql\"><div class=\"magic\">Result maximum size: 20</div><div class=\"magic\">Request format: ANY</div></div>"
      ],
      "text/plain": [
       "Result maximum size: 20\n",
       "Request format: ANY\n"
      ]
     },
     "metadata": {},
     "output_type": "display_data"
    },
    {
     "data": {
      "text/html": [
       "<div class=\"krn-spql\"><table><tr class=hdr><th>c</th><th>type</th></tr><tr class=odd><td class=val><a href=\"http://www.semwebtech.org/mondial/10/rivers/Rhein/\" target=\"_other\">http://www.semwebtech.org/mondial/10/rivers/Rhein/</a></td><td class=typ>uri</td></tr><tr class=even><td class=val><a href=\"http://www.semwebtech.org/mondial/10/rivers/Thames/\" target=\"_other\">http://www.semwebtech.org/mondial/10/rivers/Thames/</a></td><td class=typ>uri</td></tr><tr class=odd><td class=val><a href=\"http://www.semwebtech.org/mondial/10/rivers/Ness/\" target=\"_other\">http://www.semwebtech.org/mondial/10/rivers/Ness/</a></td><td class=typ>uri</td></tr><tr class=even><td class=val><a href=\"http://www.semwebtech.org/mondial/10/rivers/Schelde/\" target=\"_other\">http://www.semwebtech.org/mondial/10/rivers/Schelde/</a></td><td class=typ>uri</td></tr><tr class=odd><td class=val><a href=\"http://www.semwebtech.org/mondial/10/rivers/Elbe/\" target=\"_other\">http://www.semwebtech.org/mondial/10/rivers/Elbe/</a></td><td class=typ>uri</td></tr><tr class=even><td class=val><a href=\"http://www.semwebtech.org/mondial/10/rivers/Trent/\" target=\"_other\">http://www.semwebtech.org/mondial/10/rivers/Trent/</a></td><td class=typ>uri</td></tr><tr class=odd><td class=val><a href=\"http://www.semwebtech.org/mondial/10/rivers/Weser/\" target=\"_other\">http://www.semwebtech.org/mondial/10/rivers/Weser/</a></td><td class=typ>uri</td></tr></table><div class=\"tinfo\">Total: 7, Shown: 7</div></div>"
      ]
     },
     "metadata": {},
     "output_type": "display_data"
    }
   ],
   "source": [
    "%show 20\n",
    "# %format n3\n",
    "%format ANY\n",
    "#%lang en\n",
    "#%display table\n",
    "#%display diagram svg\n",
    "PREFIX prefix: <http://prefix.cc/>\n",
    "PREFIX co: <http://purl.org/ontology/co/core#>\n",
    "PREFIX coun: <http://www.daml.org/2001/09/countries/iso-3166-ont#>\n",
    "prefix rdfs: <http://www.w3.org/2000/01/rdf-schema#>\n",
    "prefix owl: <http://www.w3.org/2002/07/owl#>\n",
    "prefix : <http://www.semwebtech.org/mondial/10/meta#>\n",
    "prefix mondial: <http://www.semwebtech.org/mondial/10/>\n",
    "base <http://www.semwebtech.org/mondial/10/>\n",
    "SELECT ?c\n",
    "WHERE { ?c :flowsInto <seas/North+Sea/> ; a :River . }\n"
   ]
  },
  {
   "cell_type": "markdown",
   "metadata": {},
   "source": [
    "le nombre d'affluents (:River) directs et indirects de la mer du nord"
   ]
  },
  {
   "cell_type": "code",
   "execution_count": 23,
   "metadata": {},
   "outputs": [
    {
     "data": {
      "text/html": [
       "<div class=\"krn-spql\"><div class=\"magic\">Result maximum size: 20</div><div class=\"magic\">Request format: ANY</div></div>"
      ],
      "text/plain": [
       "Result maximum size: 20\n",
       "Request format: ANY\n"
      ]
     },
     "metadata": {},
     "output_type": "display_data"
    },
    {
     "data": {
      "text/html": [
       "<div class=\"krn-spql\"><table><tr class=hdr><th>nb</th></tr><tr class=odd><td class=val>42</td></tr></table><div class=\"tinfo\">Total: 1, Shown: 1</div></div>"
      ]
     },
     "metadata": {},
     "output_type": "display_data"
    }
   ],
   "source": [
    "%show 20\n",
    "# %format n3\n",
    "%format ANY\n",
    "#%lang en\n",
    "#%display table\n",
    "#%display diagram svg\n",
    "PREFIX prefix: <http://prefix.cc/>\n",
    "PREFIX co: <http://purl.org/ontology/co/core#>\n",
    "PREFIX coun: <http://www.daml.org/2001/09/countries/iso-3166-ont#>\n",
    "prefix rdfs: <http://www.w3.org/2000/01/rdf-schema#>\n",
    "prefix owl: <http://www.w3.org/2002/07/owl#>\n",
    "prefix : <http://www.semwebtech.org/mondial/10/meta#>\n",
    "prefix mondial: <http://www.semwebtech.org/mondial/10/>\n",
    "base <http://www.semwebtech.org/mondial/10/>\n",
    "SELECT ()\n",
    "WHERE { }"
   ]
  },
  {
   "cell_type": "markdown",
   "metadata": {},
   "source": [
    "Les affluents (:River) directs ou indirects de la mer du nord qui  passent  par le Rhin"
   ]
  },
  {
   "cell_type": "code",
   "execution_count": 16,
   "metadata": {},
   "outputs": [
    {
     "data": {
      "text/html": [
       "<div class=\"krn-spql\"><div class=\"magic\">Result maximum size: 20</div><div class=\"magic\">Request format: ANY</div></div>"
      ],
      "text/plain": [
       "Result maximum size: 20\n",
       "Request format: ANY\n"
      ]
     },
     "metadata": {},
     "output_type": "display_data"
    },
    {
     "data": {
      "text/html": [
       "<div class=\"krn-spql\"><table><tr class=hdr><th>c</th><th>type</th></tr><tr class=odd><td class=val><a href=\"http://www.semwebtech.org/mondial/10/rivers/Hinterrhein/\" target=\"_other\">http://www.semwebtech.org/mondial/10/rivers/Hinterrhein/</a></td><td class=typ>uri</td></tr><tr class=even><td class=val><a href=\"http://www.semwebtech.org/mondial/10/rivers/Ruhr/\" target=\"_other\">http://www.semwebtech.org/mondial/10/rivers/Ruhr/</a></td><td class=typ>uri</td></tr><tr class=odd><td class=val><a href=\"http://www.semwebtech.org/mondial/10/rivers/Maas/\" target=\"_other\">http://www.semwebtech.org/mondial/10/rivers/Maas/</a></td><td class=typ>uri</td></tr><tr class=even><td class=val><a href=\"http://www.semwebtech.org/mondial/10/rivers/Lippe/\" target=\"_other\">http://www.semwebtech.org/mondial/10/rivers/Lippe/</a></td><td class=typ>uri</td></tr><tr class=odd><td class=val><a href=\"http://www.semwebtech.org/mondial/10/rivers/Lahn/\" target=\"_other\">http://www.semwebtech.org/mondial/10/rivers/Lahn/</a></td><td class=typ>uri</td></tr><tr class=even><td class=val><a href=\"http://www.semwebtech.org/mondial/10/rivers/Bregenzer+Ach/\" target=\"_other\">http://www.semwebtech.org/mondial/10/rivers/Bregenzer+Ach/</a></td><td class=typ>uri</td></tr><tr class=odd><td class=val><a href=\"http://www.semwebtech.org/mondial/10/rivers/Aare/\" target=\"_other\">http://www.semwebtech.org/mondial/10/rivers/Aare/</a></td><td class=typ>uri</td></tr><tr class=even><td class=val><a href=\"http://www.semwebtech.org/mondial/10/rivers/Limmat/\" target=\"_other\">http://www.semwebtech.org/mondial/10/rivers/Limmat/</a></td><td class=typ>uri</td></tr><tr class=odd><td class=val><a href=\"http://www.semwebtech.org/mondial/10/rivers/Reuss/\" target=\"_other\">http://www.semwebtech.org/mondial/10/rivers/Reuss/</a></td><td class=typ>uri</td></tr><tr class=even><td class=val><a href=\"http://www.semwebtech.org/mondial/10/rivers/Sieg/\" target=\"_other\">http://www.semwebtech.org/mondial/10/rivers/Sieg/</a></td><td class=typ>uri</td></tr><tr class=odd><td class=val><a href=\"http://www.semwebtech.org/mondial/10/rivers/Mosel/\" target=\"_other\">http://www.semwebtech.org/mondial/10/rivers/Mosel/</a></td><td class=typ>uri</td></tr><tr class=even><td class=val><a href=\"http://www.semwebtech.org/mondial/10/rivers/Saar/\" target=\"_other\">http://www.semwebtech.org/mondial/10/rivers/Saar/</a></td><td class=typ>uri</td></tr><tr class=odd><td class=val><a href=\"http://www.semwebtech.org/mondial/10/rivers/Sauer/\" target=\"_other\">http://www.semwebtech.org/mondial/10/rivers/Sauer/</a></td><td class=typ>uri</td></tr><tr class=even><td class=val><a href=\"http://www.semwebtech.org/mondial/10/rivers/Alzette/\" target=\"_other\">http://www.semwebtech.org/mondial/10/rivers/Alzette/</a></td><td class=typ>uri</td></tr><tr class=odd><td class=val><a href=\"http://www.semwebtech.org/mondial/10/rivers/Neckar/\" target=\"_other\">http://www.semwebtech.org/mondial/10/rivers/Neckar/</a></td><td class=typ>uri</td></tr><tr class=even><td class=val><a href=\"http://www.semwebtech.org/mondial/10/rivers/Enz/\" target=\"_other\">http://www.semwebtech.org/mondial/10/rivers/Enz/</a></td><td class=typ>uri</td></tr><tr class=odd><td class=val><a href=\"http://www.semwebtech.org/mondial/10/rivers/Ill/\" target=\"_other\">http://www.semwebtech.org/mondial/10/rivers/Ill/</a></td><td class=typ>uri</td></tr><tr class=even><td class=val><a href=\"http://www.semwebtech.org/mondial/10/rivers/Elz/\" target=\"_other\">http://www.semwebtech.org/mondial/10/rivers/Elz/</a></td><td class=typ>uri</td></tr><tr class=odd><td class=val><a href=\"http://www.semwebtech.org/mondial/10/rivers/Wupper/\" target=\"_other\">http://www.semwebtech.org/mondial/10/rivers/Wupper/</a></td><td class=typ>uri</td></tr><tr class=even><td class=val><a href=\"http://www.semwebtech.org/mondial/10/rivers/Main/\" target=\"_other\">http://www.semwebtech.org/mondial/10/rivers/Main/</a></td><td class=typ>uri</td></tr></table><div class=\"tinfo\">Total: 20, Shown: 20</div></div>"
      ]
     },
     "metadata": {},
     "output_type": "display_data"
    }
   ],
   "source": [
    "%show 20\n",
    "# %format n3\n",
    "%format ANY\n",
    "#%lang en\n",
    "#%display table\n",
    "#%display diagram svg\n",
    "PREFIX prefix: <http://prefix.cc/>\n",
    "PREFIX co: <http://purl.org/ontology/co/core#>\n",
    "PREFIX coun: <http://www.daml.org/2001/09/countries/iso-3166-ont#>\n",
    "prefix rdfs: <http://www.w3.org/2000/01/rdf-schema#>\n",
    "prefix owl: <http://www.w3.org/2002/07/owl#>\n",
    "prefix : <http://www.semwebtech.org/mondial/10/meta#>\n",
    "prefix mondial: <http://www.semwebtech.org/mondial/10/>\n",
    "base <http://www.semwebtech.org/mondial/10/>\n",
    "SELECT \n",
    "WHERE { \n",
    "       }"
   ]
  },
  {
   "cell_type": "markdown",
   "metadata": {},
   "source": [
    "Les affluents (:River) directs et indirects de la mer du nord qui ne passent pas par le Rhin\n"
   ]
  },
  {
   "cell_type": "code",
   "execution_count": 420,
   "metadata": {
    "scrolled": true
   },
   "outputs": [
    {
     "data": {
      "text/html": [
       "<div class=\"krn-spql\"><div class=\"magic\">Result maximum size: 20</div><div class=\"magic\">Request format: ANY</div></div>"
      ],
      "text/plain": [
       "Result maximum size: 20\n",
       "Request format: ANY\n"
      ]
     },
     "metadata": {},
     "output_type": "display_data"
    },
    {
     "data": {
      "text/html": [
       "<div class=\"krn-spql\"><table><tr class=hdr><th>c</th></tr><tr class=odd><td class=val><a href=\"http://www.semwebtech.org/mondial/10/rivers/Rhein/\" target=\"_other\">http://www.semwebtech.org/mondial/10/rivers/Rhein/</a></td></tr><tr class=even><td class=val><a href=\"http://www.semwebtech.org/mondial/10/rivers/Thames/\" target=\"_other\">http://www.semwebtech.org/mondial/10/rivers/Thames/</a></td></tr><tr class=odd><td class=val><a href=\"http://www.semwebtech.org/mondial/10/rivers/Ness/\" target=\"_other\">http://www.semwebtech.org/mondial/10/rivers/Ness/</a></td></tr><tr class=even><td class=val><a href=\"http://www.semwebtech.org/mondial/10/rivers/Schelde/\" target=\"_other\">http://www.semwebtech.org/mondial/10/rivers/Schelde/</a></td></tr><tr class=odd><td class=val><a href=\"http://www.semwebtech.org/mondial/10/rivers/Elbe/\" target=\"_other\">http://www.semwebtech.org/mondial/10/rivers/Elbe/</a></td></tr><tr class=even><td class=val><a href=\"http://www.semwebtech.org/mondial/10/rivers/Mulde/\" target=\"_other\">http://www.semwebtech.org/mondial/10/rivers/Mulde/</a></td></tr><tr class=odd><td class=val><a href=\"http://www.semwebtech.org/mondial/10/rivers/Moldau/\" target=\"_other\">http://www.semwebtech.org/mondial/10/rivers/Moldau/</a></td></tr><tr class=even><td class=val><a href=\"http://www.semwebtech.org/mondial/10/rivers/Havel/\" target=\"_other\">http://www.semwebtech.org/mondial/10/rivers/Havel/</a></td></tr><tr class=odd><td class=val><a href=\"http://www.semwebtech.org/mondial/10/rivers/Spree/\" target=\"_other\">http://www.semwebtech.org/mondial/10/rivers/Spree/</a></td></tr><tr class=even><td class=val><a href=\"http://www.semwebtech.org/mondial/10/rivers/Saale/\" target=\"_other\">http://www.semwebtech.org/mondial/10/rivers/Saale/</a></td></tr><tr class=odd><td class=val><a href=\"http://www.semwebtech.org/mondial/10/rivers/Weiße+Elster/\" target=\"_other\">http://www.semwebtech.org/mondial/10/rivers/Weiße+Elster/</a></td></tr><tr class=even><td class=val><a href=\"http://www.semwebtech.org/mondial/10/rivers/Trent/\" target=\"_other\">http://www.semwebtech.org/mondial/10/rivers/Trent/</a></td></tr><tr class=odd><td class=val><a href=\"http://www.semwebtech.org/mondial/10/rivers/Weser/\" target=\"_other\">http://www.semwebtech.org/mondial/10/rivers/Weser/</a></td></tr><tr class=even><td class=val><a href=\"http://www.semwebtech.org/mondial/10/rivers/Fulda/\" target=\"_other\">http://www.semwebtech.org/mondial/10/rivers/Fulda/</a></td></tr><tr class=odd><td class=val><a href=\"http://www.semwebtech.org/mondial/10/rivers/Werra/\" target=\"_other\">http://www.semwebtech.org/mondial/10/rivers/Werra/</a></td></tr><tr class=even><td class=val><a href=\"http://www.semwebtech.org/mondial/10/rivers/Aller/\" target=\"_other\">http://www.semwebtech.org/mondial/10/rivers/Aller/</a></td></tr><tr class=odd><td class=val><a href=\"http://www.semwebtech.org/mondial/10/rivers/Leine/\" target=\"_other\">http://www.semwebtech.org/mondial/10/rivers/Leine/</a></td></tr><tr class=even><td class=val><a href=\"http://www.semwebtech.org/mondial/10/rivers/Oker/\" target=\"_other\">http://www.semwebtech.org/mondial/10/rivers/Oker/</a></td></tr></table><div class=\"tinfo\">Total: 18, Shown: 18</div></div>"
      ]
     },
     "metadata": {},
     "output_type": "display_data"
    }
   ],
   "source": [
    "%show 20\n",
    "# %format n3\n",
    "%format ANY\n",
    "#%lang en\n",
    "#%display table\n",
    "#%display diagram svg\n",
    "PREFIX prefix: <http://prefix.cc/>\n",
    "PREFIX co: <http://purl.org/ontology/co/core#>\n",
    "PREFIX coun: <http://www.daml.org/2001/09/countries/iso-3166-ont#>\n",
    "prefix rdfs: <http://www.w3.org/2000/01/rdf-schema#>\n",
    "prefix owl: <http://www.w3.org/2002/07/owl#>\n",
    "prefix : <http://www.semwebtech.org/mondial/10/meta#>\n",
    "prefix mondial: <http://www.semwebtech.org/mondial/10/>\n",
    "base <http://www.semwebtech.org/mondial/10/>\n",
    "SELECT \n",
    "WHERE { \n",
    "       }\n"
   ]
  },
  {
   "cell_type": "markdown",
   "metadata": {},
   "source": [
    "Les rivières avec au moins vingt affluents."
   ]
  },
  {
   "cell_type": "code",
   "execution_count": 17,
   "metadata": {
    "scrolled": false
   },
   "outputs": [
    {
     "data": {
      "text/html": [
       "<div class=\"krn-spql\"><div class=\"magic\">Result maximum size: 20</div><div class=\"magic\">Request format: ANY</div></div>"
      ],
      "text/plain": [
       "Result maximum size: 20\n",
       "Request format: ANY\n"
      ]
     },
     "metadata": {},
     "output_type": "display_data"
    },
    {
     "data": {
      "text/html": [
       "<div class=\"krn-spql\"><table><tr class=hdr><th>r</th><th>type</th>\n",
       "<th>cp</th><th>type</th></tr><tr class=odd><td class=val><a href=\"http://www.semwebtech.org/mondial/10/rivers/Donau/\" target=\"_other\">http://www.semwebtech.org/mondial/10/rivers/Donau/</a></td><td class=typ>uri</td>\n",
       "<td class=val>21</td><td class=typ>literal, none</td></tr></table><div class=\"tinfo\">Total: 1, Shown: 1</div></div>"
      ]
     },
     "metadata": {},
     "output_type": "display_data"
    }
   ],
   "source": [
    "%show 20\n",
    "# %format n3\n",
    "%format ANY\n",
    "#%lang en\n",
    "#%display table\n",
    "#%display diagram svg\n",
    "PREFIX prefix: <http://prefix.cc/>\n",
    "PREFIX co: <http://purl.org/ontology/co/core#>\n",
    "PREFIX coun: <http://www.daml.org/2001/09/countries/iso-3166-ont#>\n",
    "prefix rdfs: <http://www.w3.org/2000/01/rdf-schema#>\n",
    "prefix owl: <http://www.w3.org/2002/07/owl#>\n",
    "prefix : <http://www.semwebtech.org/mondial/10/meta#>\n",
    "prefix mondial: <http://www.semwebtech.org/mondial/10/>\n",
    "base <http://www.semwebtech.org/mondial/10/>\n",
    "SELECT \n",
    "WHERE { }\n",
    "GROUP BY \n",
    "HAVING ()\n"
   ]
  },
  {
   "cell_type": "markdown",
   "metadata": {},
   "source": [
    "Les lacs traversés par le Rhone"
   ]
  },
  {
   "cell_type": "code",
   "execution_count": 18,
   "metadata": {
    "scrolled": false
   },
   "outputs": [
    {
     "data": {
      "text/html": [
       "<div class=\"krn-spql\"><div class=\"magic\">Result maximum size: 20</div><div class=\"magic\">Request format: ANY</div></div>"
      ],
      "text/plain": [
       "Result maximum size: 20\n",
       "Request format: ANY\n"
      ]
     },
     "metadata": {},
     "output_type": "display_data"
    },
    {
     "data": {
      "text/html": [
       "<div class=\"krn-spql\"><table><tr class=hdr><th>lake</th><th>type</th></tr><tr class=odd><td class=val><a href=\"http://www.semwebtech.org/mondial/10/lakes/Lac+Leman/\" target=\"_other\">http://www.semwebtech.org/mondial/10/lakes/Lac+Leman/</a></td><td class=typ>uri</td></tr></table><div class=\"tinfo\">Total: 1, Shown: 1</div></div>"
      ]
     },
     "metadata": {},
     "output_type": "display_data"
    }
   ],
   "source": [
    "%show 20\n",
    "# %format n3\n",
    "%format ANY\n",
    "#%lsmagics\n",
    "#%lang en\n",
    "#%display table\n",
    "#%display diagram svg\n",
    "PREFIX prefix: <http://prefix.cc/>\n",
    "PREFIX co: <http://purl.org/ontology/co/core#>\n",
    "PREFIX coun: <http://www.daml.org/2001/09/countries/iso-3166-ont#>\n",
    "prefix rdfs: <http://www.w3.org/2000/01/rdf-schema#>\n",
    "prefix owl: <http://www.w3.org/2002/07/owl#>\n",
    "prefix : <http://www.semwebtech.org/mondial/10/meta#>\n",
    "prefix mondial: <http://www.semwebtech.org/mondial/10/>\n",
    "prefix rivers: <http://www.semwebtech.org/mondial/10/rivers/> \n",
    "base <http://www.semwebtech.org/mondial/10/>\n",
    "SELECT \n",
    "WHERE { \n",
    "}\n"
   ]
  },
  {
   "cell_type": "markdown",
   "metadata": {},
   "source": [
    "Les pays avec plus que 10000000 habitants traversés par le Danube"
   ]
  },
  {
   "cell_type": "code",
   "execution_count": 423,
   "metadata": {
    "scrolled": false
   },
   "outputs": [
    {
     "data": {
      "text/html": [
       "<div class=\"krn-spql\"><div class=\"magic\">Result maximum size: 20</div><div class=\"magic\">Request format: ANY</div></div>"
      ],
      "text/plain": [
       "Result maximum size: 20\n",
       "Request format: ANY\n"
      ]
     },
     "metadata": {},
     "output_type": "display_data"
    },
    {
     "data": {
      "text/html": [
       "<div class=\"krn-spql\"><table><tr class=hdr><th>c</th>\n",
       "<th>p</th></tr><tr class=odd><td class=val><a href=\"http://www.semwebtech.org/mondial/10/countries/D/\" target=\"_other\">http://www.semwebtech.org/mondial/10/countries/D/</a></td>\n",
       "<td class=val>82521653</td></tr><tr class=even><td class=val><a href=\"http://www.semwebtech.org/mondial/10/countries/RO/\" target=\"_other\">http://www.semwebtech.org/mondial/10/countries/RO/</a></td>\n",
       "<td class=val>20121641</td></tr><tr class=odd><td class=val><a href=\"http://www.semwebtech.org/mondial/10/countries/UA/\" target=\"_other\">http://www.semwebtech.org/mondial/10/countries/UA/</a></td>\n",
       "<td class=val>45633637</td></tr></table><div class=\"tinfo\">Total: 3, Shown: 3</div></div>"
      ]
     },
     "metadata": {},
     "output_type": "display_data"
    }
   ],
   "source": [
    "%show 20\n",
    "# %format n3\n",
    "%format ANY\n",
    "#%lsmagics\n",
    "#%lang en\n",
    "#%display table\n",
    "#%display diagram svg\n",
    "PREFIX prefix: <http://prefix.cc/>\n",
    "PREFIX co: <http://purl.org/ontology/co/core#>\n",
    "PREFIX coun: <http://www.daml.org/2001/09/countries/iso-3166-ont#>\n",
    "prefix rdfs: <http://www.w3.org/2000/01/rdf-schema#>\n",
    "prefix owl: <http://www.w3.org/2002/07/owl#>\n",
    "prefix : <http://www.semwebtech.org/mondial/10/meta#>\n",
    "prefix mondial: <http://www.semwebtech.org/mondial/10/>\n",
    "prefix rivers: <http://www.semwebtech.org/mondial/10/rivers/> \n",
    "base <http://www.semwebtech.org/mondial/10/>\n",
    "SELECT \n",
    "WHERE { \n",
    "            }\n"
   ]
  },
  {
   "cell_type": "markdown",
   "metadata": {},
   "source": [
    "## Divison"
   ]
  },
  {
   "cell_type": "markdown",
   "metadata": {},
   "source": [
    "Les Pays qui appartiennent à toutes les organisations auxquelles appartient aussi le Liechtenstein"
   ]
  },
  {
   "cell_type": "code",
   "execution_count": 424,
   "metadata": {
    "scrolled": false
   },
   "outputs": [
    {
     "data": {
      "text/html": [
       "<div class=\"krn-spql\"><div class=\"magic\">Result maximum size: 200</div><div class=\"magic\">Request format: ANY</div></div>"
      ],
      "text/plain": [
       "Result maximum size: 200\n",
       "Request format: ANY\n"
      ]
     },
     "metadata": {},
     "output_type": "display_data"
    },
    {
     "data": {
      "text/html": [
       "<div class=\"krn-spql\"><table><tr class=hdr><th>c</th>\n",
       "<th>cn</th></tr><tr class=odd><td class=val><a href=\"http://www.semwebtech.org/mondial/10/countries/N/\" target=\"_other\">http://www.semwebtech.org/mondial/10/countries/N/</a></td>\n",
       "<td class=val>Norway</td></tr><tr class=even><td class=val><a href=\"http://www.semwebtech.org/mondial/10/countries/FL/\" target=\"_other\">http://www.semwebtech.org/mondial/10/countries/FL/</a></td>\n",
       "<td class=val>Liechtenstein</td></tr><tr class=odd><td class=val><a href=\"http://www.semwebtech.org/mondial/10/countries/CH/\" target=\"_other\">http://www.semwebtech.org/mondial/10/countries/CH/</a></td>\n",
       "<td class=val>Switzerland</td></tr></table><div class=\"tinfo\">Total: 3, Shown: 3</div></div>"
      ]
     },
     "metadata": {},
     "output_type": "display_data"
    }
   ],
   "source": [
    "%show 200\n",
    "# %format n3\n",
    "%format ANY\n",
    "#%lsmagics\n",
    "#%lang en\n",
    "#%display table\n",
    "#%display diagram svg\n",
    "PREFIX prefix: <http://prefix.cc/>\n",
    "PREFIX co: <http://purl.org/ontology/co/core#>\n",
    "PREFIX coun: <http://www.daml.org/2001/09/countries/iso-3166-ont#>\n",
    "prefix rdfs: <http://www.w3.org/2000/01/rdf-schema#>\n",
    "prefix owl: <http://www.w3.org/2002/07/owl#>\n",
    "prefix : <http://www.semwebtech.org/mondial/10/meta#>\n",
    "prefix mondial: <http://www.semwebtech.org/mondial/10/>\n",
    "prefix rivers: <http://www.semwebtech.org/mondial/10/rivers/> \n",
    "base <http://www.semwebtech.org/mondial/10/>\n",
    "SELECT \n",
    "WHERE { \n",
    "}\n"
   ]
  }
 ],
 "metadata": {
  "kernelspec": {
   "display_name": "SPARQL",
   "language": "sparql",
   "name": "sparql"
  },
  "language_info": {
   "codemirror_mode": {
    "name": "sparql"
   },
   "mimetype": "application/sparql-query",
   "name": "sparql",
   "pygments_lexer": "sparql-nb"
  }
 },
 "nbformat": 4,
 "nbformat_minor": 4
}
